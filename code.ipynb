{
 "cells": [
  {
   "cell_type": "code",
   "execution_count": null,
   "id": "7a693d0f",
   "metadata": {},
   "outputs": [],
   "source": [
    "import sys\n",
    "!{sys.executable} -m pip install selenium"
   ]
  },
  {
   "cell_type": "code",
   "execution_count": 1,
   "id": "7a8615df",
   "metadata": {},
   "outputs": [],
   "source": [
    "from selenium import webdriver\n",
    "from selenium.webdriver.chrome.service import Service\n",
    "from selenium.webdriver.common.by import By\n",
    "import time\n",
    "import pandas as pd \n"
   ]
  },
  {
   "cell_type": "code",
   "execution_count": 2,
   "id": "28e603d8",
   "metadata": {},
   "outputs": [],
   "source": [
    "service = Service(\"/Users/zoe/Downloads/chromedriver-mac-arm64/chromedriver\")\n",
    "options = webdriver.ChromeOptions()\n",
    "options.add_argument('--headless')  \n",
    "options.add_argument('--no-sandbox')\n",
    "options.add_argument('--disable-dev-shm-usage')\n",
    "options.page_load_strategy = 'eager'  \n",
    "\n",
    "driver = webdriver.Chrome(service=service, options=options)\n",
    "\n",
    "df = pd.read_excel(\"file.xlsx\")  \n",
    "stock_codes = df.iloc[:, 0].astype(str).tolist()  \n"
   ]
  },
  {
   "cell_type": "code",
   "execution_count": 3,
   "id": "85029272",
   "metadata": {},
   "outputs": [],
   "source": [
    "def get_highlight(driver, code):\n",
    "    url = f\"https://basic.10jqka.com.cn/{code}/\"\n",
    "    try:\n",
    "        driver.get(url)\n",
    "        time.sleep(1.5)  \n",
    "\n",
    "        # locate \n",
    "        element = driver.find_element(By.XPATH, \"//span[text()='公司亮点：']/following-sibling::span\")\n",
    "        return element.text.strip().split('。')[0] + '。'\n",
    "    except Exception as e:\n",
    "        print(f\"❌ {code} 抓取失败：{e}\")\n",
    "        return None"
   ]
  },
  {
   "cell_type": "code",
   "execution_count": 5,
   "id": "a55e7c31",
   "metadata": {},
   "outputs": [],
   "source": [
    "df.insert(3, \"公司亮点\", results)\n",
    "df.to_excel(\"公司亮点结果.xlsx\", index=False)\n"
   ]
  }
 ],
 "metadata": {
  "kernelspec": {
   "display_name": "Python 3",
   "language": "python",
   "name": "python3"
  },
  "language_info": {
   "codemirror_mode": {
    "name": "ipython",
    "version": 3
   },
   "file_extension": ".py",
   "mimetype": "text/x-python",
   "name": "python",
   "nbconvert_exporter": "python",
   "pygments_lexer": "ipython3",
   "version": "3.11.11"
  }
 },
 "nbformat": 4,
 "nbformat_minor": 5
}
